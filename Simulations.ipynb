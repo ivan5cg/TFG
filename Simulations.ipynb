{
 "cells": [
  {
   "cell_type": "markdown",
   "metadata": {},
   "source": [
    "## With the data ready, portfolios are simulated"
   ]
  },
  {
   "cell_type": "code",
   "execution_count": 2,
   "metadata": {},
   "outputs": [],
   "source": [
    "import bt\n",
    "import yfinance as yf\n",
    "import pandas as pd\n",
    "import numpy as np"
   ]
  },
  {
   "cell_type": "code",
   "execution_count": 24,
   "metadata": {},
   "outputs": [],
   "source": [
    "monthly_returns = pd.read_excel('monthly_returns.xlsx',parse_dates=True,index_col=0)\n",
    "price_index = pd.read_excel('price_index.xlsx',parse_dates=True,index_col=0)"
   ]
  },
  {
   "cell_type": "markdown",
   "metadata": {},
   "source": [
    "### A function is created to simulate portfolios"
   ]
  },
  {
   "cell_type": "code",
   "execution_count": 19,
   "metadata": {},
   "outputs": [],
   "source": [
    "def generate_random_portfolios(number_of_portfolios=5,number_of_companies=20):\n",
    "\n",
    "    random_portfolios = pd.DataFrame(index=monthly_returns.index)\n",
    "\n",
    "    for portfolio in range(0,number_of_portfolios):\n",
    "\n",
    "        s = bt.Strategy('s1', [bt.algos.RunMonthly(),\n",
    "                       bt.algos.SelectRandomly(number_of_companies),\n",
    "                       bt.algos.WeighEqually(),\n",
    "                       bt.algos.Rebalance()])\n",
    "\n",
    "        test = bt.Backtest(s, price_index,initial_capital=10000000)\n",
    "        res = bt.run(test)\n",
    "\n",
    "        random_portfolios[portfolio] = res.prices\n",
    "    \n",
    "    return random_portfolios"
   ]
  },
  {
   "cell_type": "markdown",
   "metadata": {},
   "source": [
    "### Ten thousand portfolios are simulated\n",
    "#### This computations is computationally expensive, and may take more than 12 hours"
   ]
  },
  {
   "cell_type": "code",
   "execution_count": 27,
   "metadata": {},
   "outputs": [],
   "source": [
    "number_of_portfolios = 10000\n",
    "\n",
    "results = generate_random_portfolios(number_of_portfolios=number_of_portfolios)"
   ]
  },
  {
   "cell_type": "markdown",
   "metadata": {},
   "source": [
    "### S&P 500 index data is added for reference"
   ]
  },
  {
   "cell_type": "code",
   "execution_count": null,
   "metadata": {},
   "outputs": [],
   "source": [
    "spy = yf.download(\"SPY\")[\"Adj Close\"].pct_change()\n",
    "\n",
    "spy = spy[\"1996\":]\n",
    "\n",
    "spy = spy[\"1996\":].resample(\"M\").agg(lambda x: (x + 1).prod() - 1)\n",
    "\n",
    "spy[0] = 0\n",
    "spy[1] = 0\n",
    "\n",
    "results[\"SPX\"] = (1+spy).cumprod()*100\n",
    "\n",
    "results.to_excel(\"Simulations.xlsx\")"
   ]
  },
  {
   "cell_type": "markdown",
   "metadata": {},
   "source": [
    "### Data is saved for future access"
   ]
  },
  {
   "cell_type": "code",
   "execution_count": 44,
   "metadata": {},
   "outputs": [],
   "source": [
    "results = pd.read_excel(\"Simulations.xlsx\",index_col=0)"
   ]
  }
 ],
 "metadata": {
  "kernelspec": {
   "display_name": "Python 3.7.7 ('base')",
   "language": "python",
   "name": "python3"
  },
  "language_info": {
   "codemirror_mode": {
    "name": "ipython",
    "version": 3
   },
   "file_extension": ".py",
   "mimetype": "text/x-python",
   "name": "python",
   "nbconvert_exporter": "python",
   "pygments_lexer": "ipython3",
   "version": "3.7.7"
  },
  "orig_nbformat": 4,
  "vscode": {
   "interpreter": {
    "hash": "88279d2366fe020547cde40dd65aa0e3aa662a6ec1f3ca12d88834876c85e1a6"
   }
  }
 },
 "nbformat": 4,
 "nbformat_minor": 2
}
