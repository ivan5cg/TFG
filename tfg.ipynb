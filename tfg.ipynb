{
 "cells": [
  {
   "cell_type": "code",
   "execution_count": 1,
   "metadata": {},
   "outputs": [],
   "source": [
    "import pandas as pd\n",
    "import numpy as np\n",
    "\n",
    "data = pd.read_csv(\"data_wrds.csv\",engine=\"python\")\n",
    "\n",
    "data.index = data[\"date\"]\n",
    "del data[\"date\"]\n",
    "\n",
    "data = data.drop('29/10/2012')\n",
    "data = data.drop('30/09/2017')\n",
    "data = data.drop('23/04/2005')\n",
    "\n",
    "data.index = pd.to_datetime(data.index,dayfirst=True)"
   ]
  },
  {
   "cell_type": "code",
   "execution_count": 2,
   "metadata": {},
   "outputs": [],
   "source": [
    "returns = pd.DataFrame(index=data.index,columns=[\"RETURNS\"])\n",
    "\n",
    "for i in range(0,len(data[\"RET\"])):\n",
    "\n",
    "    if data[\"RET\"][i] == \"C\":\n",
    "\n",
    "        pass \n",
    "\n",
    "    elif data[\"RET\"][i] == \"B\":\n",
    "\n",
    "        pass        \n",
    "    \n",
    "    else:\n",
    "        returns.iloc[i] = float(data[\"RET\"][i])    \n",
    "\n",
    "#test[\"RET\"].astype(\"float\")\n",
    "\n",
    "data[\"RETURNS\"] = returns\n",
    "\n",
    "data"
   ]
  },
  {
   "cell_type": "code",
   "execution_count": null,
   "metadata": {},
   "outputs": [],
   "source": []
  }
 ],
 "metadata": {
  "kernelspec": {
   "display_name": "Python 3.7.7 ('base')",
   "language": "python",
   "name": "python3"
  },
  "language_info": {
   "codemirror_mode": {
    "name": "ipython",
    "version": 3
   },
   "file_extension": ".py",
   "mimetype": "text/x-python",
   "name": "python",
   "nbconvert_exporter": "python",
   "pygments_lexer": "ipython3",
   "version": "3.7.7"
  },
  "orig_nbformat": 4,
  "vscode": {
   "interpreter": {
    "hash": "88279d2366fe020547cde40dd65aa0e3aa662a6ec1f3ca12d88834876c85e1a6"
   }
  }
 },
 "nbformat": 4,
 "nbformat_minor": 2
}
